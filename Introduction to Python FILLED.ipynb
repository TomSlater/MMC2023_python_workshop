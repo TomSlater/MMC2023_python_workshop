{
 "cells": [
  {
   "cell_type": "markdown",
   "metadata": {},
   "source": [
    "# Introduction to Python\n",
    "\n",
    "![Pyhton](https://www.python.org/static/community_logos/python-logo-master-v3-TM.png)"
   ]
  },
  {
   "cell_type": "markdown",
   "metadata": {},
   "source": [
    "Python is a fully featured computer language which is easy to read and learn. This does not mean you can fully master it in a few minutes. But it does mean that it is easy to get started and that a small effort in learning it is quickly and handsomely rewarded. This notebook introduce a few features key features of the language to get you started.\n",
    "\n",
    "### <span style=\"color: red\"> It is highly recommended that you start your own notebook and try to type and debug the code on your own.</span> \n",
    "\n",
    "### <span style=\"color: red\"> Similarly, you will learn much more - and therefore do better on the exam - by trying to come up with the short programs on your own, before using the given examples.</span> \n",
    "\n"
   ]
  },
  {
   "cell_type": "markdown",
   "metadata": {},
   "source": [
    "## Variables\n",
    "In Python, like in other programming languages, we use variables to store values. They can be numbers or text (and other things) but unlike in other languages like C or Fortran the type of variable does not need to be specified. The type of the variable is \"guessed\" when it is assigned. \n",
    "\n",
    "\n",
    "The operator `=` (equal sign) is used to assign variables:"
   ]
  },
  {
   "cell_type": "code",
   "execution_count": 5,
   "metadata": {},
   "outputs": [],
   "source": [
    "a=1\n",
    "b=3.1452\n",
    "c='Some text'"
   ]
  },
  {
   "cell_type": "markdown",
   "metadata": {},
   "source": [
    "We can use the `print` command, or function, to print the value of a variable:"
   ]
  },
  {
   "cell_type": "code",
   "execution_count": 6,
   "metadata": {},
   "outputs": [
    {
     "name": "stdout",
     "output_type": "stream",
     "text": [
      "1\n",
      "3.1452\n",
      "Some text\n"
     ]
    }
   ],
   "source": [
    "print(a)\n",
    "print(b)\n",
    "print(c)"
   ]
  },
  {
   "cell_type": "code",
   "execution_count": 7,
   "metadata": {},
   "outputs": [
    {
     "name": "stdout",
     "output_type": "stream",
     "text": [
      "False\n"
     ]
    }
   ],
   "source": [
    "print (a==b)"
   ]
  },
  {
   "cell_type": "code",
   "execution_count": 8,
   "metadata": {},
   "outputs": [
    {
     "name": "stdout",
     "output_type": "stream",
     "text": [
      "True\n"
     ]
    }
   ],
   "source": [
    "print (b > a)"
   ]
  },
  {
   "cell_type": "code",
   "execution_count": 9,
   "metadata": {},
   "outputs": [
    {
     "name": "stdout",
     "output_type": "stream",
     "text": [
      "True\n"
     ]
    }
   ],
   "source": [
    "print (\"e\" in c)"
   ]
  },
  {
   "cell_type": "code",
   "execution_count": 10,
   "metadata": {},
   "outputs": [
    {
     "name": "stdout",
     "output_type": "stream",
     "text": [
      "False\n"
     ]
    }
   ],
   "source": [
    "d = True\n",
    "print (d is False)"
   ]
  },
  {
   "cell_type": "markdown",
   "metadata": {},
   "source": [
    "We can check what Python has interpreted the variables as:"
   ]
  },
  {
   "cell_type": "code",
   "execution_count": 11,
   "metadata": {},
   "outputs": [
    {
     "data": {
      "text/plain": [
       "int"
      ]
     },
     "execution_count": 11,
     "metadata": {},
     "output_type": "execute_result"
    }
   ],
   "source": [
    "type(a)"
   ]
  },
  {
   "cell_type": "markdown",
   "metadata": {},
   "source": [
    "`int` stands for integer."
   ]
  },
  {
   "cell_type": "code",
   "execution_count": 12,
   "metadata": {},
   "outputs": [
    {
     "data": {
      "text/plain": [
       "float"
      ]
     },
     "execution_count": 12,
     "metadata": {},
     "output_type": "execute_result"
    }
   ],
   "source": [
    "type(b)"
   ]
  },
  {
   "cell_type": "markdown",
   "metadata": {},
   "source": [
    "`float` stands for [floating point number](https://en.wikipedia.org/wiki/Floating-point_arithmetic#Floating-point_numbers)."
   ]
  },
  {
   "cell_type": "code",
   "execution_count": 13,
   "metadata": {},
   "outputs": [
    {
     "data": {
      "text/plain": [
       "str"
      ]
     },
     "execution_count": 13,
     "metadata": {},
     "output_type": "execute_result"
    }
   ],
   "source": [
    "type(c)"
   ]
  },
  {
   "cell_type": "markdown",
   "metadata": {},
   "source": [
    "### Type casting\n",
    "\n"
   ]
  },
  {
   "cell_type": "code",
   "execution_count": 14,
   "metadata": {},
   "outputs": [
    {
     "name": "stdout",
     "output_type": "stream",
     "text": [
      "the integer form of a = 3  And the float form of b = 1.0 And the string form of a = 1\n"
     ]
    }
   ],
   "source": [
    "e = int (b)\n",
    "f = float (a)\n",
    "g = str (a)\n",
    "print ('the integer form of a =',e,' And the float form of b =',f, 'And the string form of a =', g)\n",
    "    "
   ]
  },
  {
   "cell_type": "markdown",
   "metadata": {},
   "source": [
    "`str` stands for [string](https://en.wikipedia.org/wiki/String_(computer_science))."
   ]
  },
  {
   "cell_type": "markdown",
   "metadata": {},
   "source": [
    "Python tries to interpret the type of each variable when it is assigned. Trying to operate on variables of different types can sometimes produce errors. Evaluate the following cell. Why does it give an error?"
   ]
  },
  {
   "cell_type": "code",
   "execution_count": 15,
   "metadata": {},
   "outputs": [
    {
     "ename": "TypeError",
     "evalue": "unsupported operand type(s) for +: 'int' and 'str'",
     "output_type": "error",
     "traceback": [
      "\u001b[0;31m---------------------------------------------------------------------------\u001b[0m",
      "\u001b[0;31mTypeError\u001b[0m                                 Traceback (most recent call last)",
      "\u001b[0;32m<ipython-input-15-e200917bc55f>\u001b[0m in \u001b[0;36m<module>\u001b[0;34m\u001b[0m\n\u001b[0;32m----> 1\u001b[0;31m \u001b[0ma\u001b[0m\u001b[0;34m+\u001b[0m\u001b[0mc\u001b[0m\u001b[0;34m\u001b[0m\u001b[0;34m\u001b[0m\u001b[0m\n\u001b[0m",
      "\u001b[0;31mTypeError\u001b[0m: unsupported operand type(s) for +: 'int' and 'str'"
     ]
    }
   ],
   "source": [
    "a+c"
   ]
  },
  {
   "cell_type": "markdown",
   "metadata": {},
   "source": [
    "\n",
    "### <span style=\"color: red\"> Exercise:</span> \n",
    "Convert temperature from 21 Celsius to Fahrenheit. \n",
    "\n",
    "\n",
    "$F= \\frac{9}{5}C + 32$ \n",
    "\n",
    "F: temperature in Fahrenheit\n",
    "\n",
    "C : temperature in Celsius\n"
   ]
  },
  {
   "cell_type": "markdown",
   "metadata": {},
   "source": [
    "### <span style=\"color: blue\"> Solution:</span>"
   ]
  },
  {
   "cell_type": "code",
   "execution_count": 16,
   "metadata": {},
   "outputs": [
    {
     "name": "stdout",
     "output_type": "stream",
     "text": [
      "69.80000000000001\n"
     ]
    }
   ],
   "source": [
    "C = 21\n",
    "F =(9.0/5.0)*C + 32\n",
    "print (F)"
   ]
  },
  {
   "cell_type": "markdown",
   "metadata": {},
   "source": [
    "## Lists"
   ]
  },
  {
   "cell_type": "markdown",
   "metadata": {},
   "source": [
    "Another important data structure is python is lists. Lists are ordered lists of objects. These can be variables, arrays, objects, lists, tuples etc. To create a list we use the `=` operator again but the use square brackets to start a list of objects separated by commas:"
   ]
  },
  {
   "cell_type": "code",
   "execution_count": 17,
   "metadata": {},
   "outputs": [],
   "source": [
    "listA=[1,3.1452,'Some text'] #This is a comment\n",
    "listB=[a,c,c] #note that lists are in square brackets"
   ]
  },
  {
   "cell_type": "markdown",
   "metadata": {},
   "source": [
    "We can use the `print` function to print a list: "
   ]
  },
  {
   "cell_type": "code",
   "execution_count": 18,
   "metadata": {},
   "outputs": [
    {
     "name": "stdout",
     "output_type": "stream",
     "text": [
      "[1, 'Some text', 'Some text']\n"
     ]
    }
   ],
   "source": [
    "print(listB)"
   ]
  },
  {
   "cell_type": "markdown",
   "metadata": {},
   "source": [
    "_Indexing_ can be used to extract individual list items by their index (position in the list). Note that indexing starts at zero. So to print the first item of `listA` above, we need to use the index 0:"
   ]
  },
  {
   "cell_type": "code",
   "execution_count": 19,
   "metadata": {},
   "outputs": [
    {
     "name": "stdout",
     "output_type": "stream",
     "text": [
      "1\n"
     ]
    }
   ],
   "source": [
    "print(listA[0])"
   ]
  },
  {
   "cell_type": "markdown",
   "metadata": {},
   "source": [
    "To get the third item of the list:"
   ]
  },
  {
   "cell_type": "code",
   "execution_count": 20,
   "metadata": {},
   "outputs": [
    {
     "data": {
      "text/plain": [
       "'Some text'"
      ]
     },
     "execution_count": 20,
     "metadata": {},
     "output_type": "execute_result"
    }
   ],
   "source": [
    "listA[2]"
   ]
  },
  {
   "cell_type": "markdown",
   "metadata": {},
   "source": [
    "Notice we didn't use print in the cell above. In code cells, evaluating an object usually gives you a useful representation of it."
   ]
  },
  {
   "cell_type": "markdown",
   "metadata": {},
   "source": [
    "List can also be  _sliced_. Slicing extracts more than one item, in the form of a smaller list: "
   ]
  },
  {
   "cell_type": "code",
   "execution_count": 21,
   "metadata": {},
   "outputs": [
    {
     "data": {
      "text/plain": [
       "['Some text', 'Some text']"
      ]
     },
     "execution_count": 21,
     "metadata": {},
     "output_type": "execute_result"
    }
   ],
   "source": [
    "listB[1:3]"
   ]
  },
  {
   "cell_type": "markdown",
   "metadata": {},
   "source": [
    "Lists can also be compared. For example, in the cell below we check if the two lists are equal:"
   ]
  },
  {
   "cell_type": "code",
   "execution_count": 22,
   "metadata": {},
   "outputs": [
    {
     "data": {
      "text/plain": [
       "False"
      ]
     },
     "execution_count": 22,
     "metadata": {},
     "output_type": "execute_result"
    }
   ],
   "source": [
    "listA==listB"
   ]
  },
  {
   "cell_type": "markdown",
   "metadata": {},
   "source": [
    "Notice that the comparison operator is two equal signs: `==`. Try not to confuse it with the assignement operator, which is just one `=`."
   ]
  },
  {
   "cell_type": "markdown",
   "metadata": {},
   "source": [
    "## Flow control and Conditional branching (if statements)\n",
    "\n",
    "- if .. elif .. else ..\n"
   ]
  },
  {
   "cell_type": "markdown",
   "metadata": {},
   "source": [
    "A key part of programming is decision making and flow control. This means having your code check to see whether a certain condition is met, then performing a task based upon the result.\n",
    "\n",
    "For example, we could ask the user to input a text file for analysis, check whether they have actually provided a text file, then process the data if they have, or give an error if they have not.\n",
    "\n",
    "The key commands for this are _if_,  _elif_, and _else_.\n",
    "\n",
    "The _if_ command is used to check if a statement is true. _elif_ (else if) is used to perform a second check, if the first query evaluates as false. _else_ tells the computer what to do if none of the above statements evaluate as true. See the example below as to how this would look in \"code form\""
   ]
  },
  {
   "cell_type": "code",
   "execution_count": 23,
   "metadata": {},
   "outputs": [
    {
     "ename": "SyntaxError",
     "evalue": "invalid syntax (<ipython-input-23-46a1a9f10c82>, line 2)",
     "output_type": "error",
     "traceback": [
      "\u001b[0;36m  File \u001b[0;32m\"<ipython-input-23-46a1a9f10c82>\"\u001b[0;36m, line \u001b[0;32m2\u001b[0m\n\u001b[0;31m    <block of statements>\u001b[0m\n\u001b[0m    ^\u001b[0m\n\u001b[0;31mSyntaxError\u001b[0m\u001b[0;31m:\u001b[0m invalid syntax\n"
     ]
    }
   ],
   "source": [
    "if cond1:\n",
    "    <block of statements>\n",
    "    executed if cond1 is True\n",
    "elif cond2:\n",
    "    <block of statements>\n",
    "    executed if cond1 is False and cond2 is True\n",
    "else:\n",
    "    <block of statements>\n",
    "    executed if cond1 and cond2 are False"
   ]
  },
  {
   "cell_type": "markdown",
   "metadata": {},
   "source": [
    "### Inline _if_ tests \n"
   ]
  },
  {
   "cell_type": "markdown",
   "metadata": {},
   "source": [
    "At the start of this workbook, you defined a variable _a_. Try some tests using _if_ statements with this variable to see how they work. Try checking to see if _a_ is a integer or a string, and printing different statements depending on the result."
   ]
  },
  {
   "cell_type": "code",
   "execution_count": 24,
   "metadata": {},
   "outputs": [
    {
     "data": {
      "text/plain": [
       "1"
      ]
     },
     "execution_count": 24,
     "metadata": {},
     "output_type": "execute_result"
    }
   ],
   "source": [
    "type(b)\n",
    "ans = (1 if type(b)==float else 2)\n",
    "ans"
   ]
  },
  {
   "cell_type": "markdown",
   "metadata": {},
   "source": [
    "### Exception handling: try .. except: ..\n"
   ]
  },
  {
   "cell_type": "markdown",
   "metadata": {},
   "source": [
    "You can also use the _except_ command with _if_ statements to help catch errors. See the example below."
   ]
  },
  {
   "cell_type": "code",
   "execution_count": 31,
   "metadata": {},
   "outputs": [
    {
     "name": "stdin",
     "output_type": "stream",
     "text": [
      "Please enter an integer: abort\n"
     ]
    },
    {
     "name": "stderr",
     "output_type": "stream",
     "text": [
      "ERROR:root:Internal Python error in the inspect module.\n",
      "Below is the traceback from this internal error.\n",
      "\n"
     ]
    },
    {
     "name": "stdout",
     "output_type": "stream",
     "text": [
      "Oops! You failed to provide an integer nubmer as input on the command line. Try again...!\n",
      "Traceback (most recent call last):\n",
      "  File \"<ipython-input-31-d435b0c497f3>\", line 4, in <module>\n",
      "    x = int (input(\"Please enter an integer:\"))\n",
      "ValueError: invalid literal for int() with base 10: 'abort'\n",
      "\n",
      "During handling of the above exception, another exception occurred:\n",
      "\n",
      "Traceback (most recent call last):\n",
      "  File \"/Users/jamesgibson/opt/anaconda3/lib/python3.7/site-packages/IPython/core/interactiveshell.py\", line 3331, in run_code\n",
      "    exec(code_obj, self.user_global_ns, self.user_ns)\n",
      "  File \"<ipython-input-31-d435b0c497f3>\", line 17, in <module>\n",
      "    sys.exit(1) # abort\n",
      "SystemExit: 1\n",
      "\n",
      "During handling of the above exception, another exception occurred:\n",
      "\n",
      "Traceback (most recent call last):\n",
      "  File \"/Users/jamesgibson/opt/anaconda3/lib/python3.7/site-packages/IPython/core/ultratb.py\", line 1151, in get_records\n",
      "    return _fixed_getinnerframes(etb, number_of_lines_of_context, tb_offset)\n",
      "  File \"/Users/jamesgibson/opt/anaconda3/lib/python3.7/site-packages/IPython/core/ultratb.py\", line 319, in wrapped\n",
      "    return f(*args, **kwargs)\n",
      "  File \"/Users/jamesgibson/opt/anaconda3/lib/python3.7/site-packages/IPython/core/ultratb.py\", line 353, in _fixed_getinnerframes\n",
      "    records = fix_frame_records_filenames(inspect.getinnerframes(etb, context))\n",
      "  File \"/Users/jamesgibson/opt/anaconda3/lib/python3.7/inspect.py\", line 1502, in getinnerframes\n",
      "    frameinfo = (tb.tb_frame,) + getframeinfo(tb, context)\n",
      "AttributeError: 'tuple' object has no attribute 'tb_frame'\n"
     ]
    },
    {
     "ename": "SystemExit",
     "evalue": "1",
     "output_type": "error",
     "traceback": [
      "An exception has occurred, use %tb to see the full traceback.\n",
      "\u001b[0;31m---------------------------------------------------------------------------\u001b[0m",
      "\nDuring handling of the above exception, another exception occurred:\n",
      "\u001b[0;31mSystemExit\u001b[0m\u001b[0;31m:\u001b[0m 1\n"
     ]
    }
   ],
   "source": [
    "import sys\n",
    "while True:\n",
    "    try: \n",
    "        x = int (input(\"Please enter an integer:\"))\n",
    "        if x < 0:\n",
    "            x = 0\n",
    "            print ('Negative changed to Zero')\n",
    "        elif x == 0:\n",
    "            print ('Zero')\n",
    "        elif x == 1:\n",
    "            print ('Single')\n",
    "        else:\n",
    "            print ('More')\n",
    "          \n",
    "    except: # means if you do not provide any value\n",
    "        print ('Oops! You failed to provide an integer nubmer as input on the command line. Try again...!')\n",
    "        sys.exit(1) # abort\n",
    "        \n",
    "            "
   ]
  },
  {
   "cell_type": "code",
   "execution_count": 33,
   "metadata": {},
   "outputs": [
    {
     "name": "stdin",
     "output_type": "stream",
     "text": [
      "Please enter a number:  1\n"
     ]
    }
   ],
   "source": [
    "while True:\n",
    "    try:\n",
    "        x = int(input(\"Please enter a number: \"))\n",
    "        break\n",
    "        \n",
    "    except ValueError:\n",
    "        print(\"Oops!  That was no valid number.  Try again...\")"
   ]
  },
  {
   "cell_type": "markdown",
   "metadata": {},
   "source": [
    "\n",
    "\n",
    "In the next example, we use a conditional to sum only the even numbers. The [modulo](https://en.wikipedia.org/wiki/Modulo_operation) operator, `%`, returns the remainder of the integer division between two numbers. Since an even number is always divisible by 2, the modulo division between an even number and 2 will always be 0:"
   ]
  },
  {
   "cell_type": "code",
   "execution_count": 34,
   "metadata": {},
   "outputs": [
    {
     "name": "stdout",
     "output_type": "stream",
     "text": [
      "1\n"
     ]
    }
   ],
   "source": [
    "print(5%2) #5 is odd so there will be a remainder"
   ]
  },
  {
   "cell_type": "code",
   "execution_count": 35,
   "metadata": {},
   "outputs": [
    {
     "name": "stdout",
     "output_type": "stream",
     "text": [
      "0\n"
     ]
    }
   ],
   "source": [
    "print(356%2) #356 is even so the remainder will be zero"
   ]
  },
  {
   "cell_type": "markdown",
   "metadata": {},
   "source": [
    "We can now incude in our for loop and use a conditional add only even numbers:"
   ]
  },
  {
   "cell_type": "code",
   "execution_count": 36,
   "metadata": {},
   "outputs": [
    {
     "name": "stdout",
     "output_type": "stream",
     "text": [
      "1\n",
      "4\n",
      "9\n",
      "16\n",
      "25\n"
     ]
    }
   ],
   "source": [
    "numbers=[1,2,3,4,5,6,7,8,9,10]\n",
    "total=0\n",
    "for num in numbers:\n",
    "    if (num%2)==1: #check the number is even using the % operator\n",
    "        total=total + num\n",
    "        print(total)"
   ]
  },
  {
   "cell_type": "markdown",
   "metadata": {},
   "source": [
    "Can you change the code above to add only the odd numbers?\n",
    "<span style=\"color: red\">Change to 'if (num%2)==1:'</span> "
   ]
  },
  {
   "cell_type": "markdown",
   "metadata": {},
   "source": [
    "### Looping through lists (iterating)"
   ]
  },
  {
   "cell_type": "markdown",
   "metadata": {},
   "source": [
    "Lists can be easily looped through or iterated in python. Let's iterate through a list and print each of them:"
   ]
  },
  {
   "cell_type": "code",
   "execution_count": 37,
   "metadata": {},
   "outputs": [
    {
     "name": "stdout",
     "output_type": "stream",
     "text": [
      "1\n",
      "2\n",
      "3\n",
      "4\n",
      "5\n",
      "6\n",
      "7\n",
      "8\n",
      "9\n",
      "10\n"
     ]
    }
   ],
   "source": [
    "numbers=[1,2,3,4,5,6,7,8,9,10]\n",
    "for num in numbers:\n",
    "    print(num) "
   ]
  },
  {
   "cell_type": "markdown",
   "metadata": {},
   "source": [
    "There are several important take aways in this example. The first thing to note is the indentation. Indentation is used to separate the body of the `for` loop from the rest of the code. This might seem odd at first, but it soon becomes second nature and it makes it easy to stay organised and keep the code clean. You should use the <key>Tab</key> to ident code. This adds 4 spaces to the start of the line:\n",
    "\n",
    "Without an indentation we get an **IndentationError**:"
   ]
  },
  {
   "cell_type": "code",
   "execution_count": 38,
   "metadata": {},
   "outputs": [
    {
     "ename": "IndentationError",
     "evalue": "expected an indented block (<ipython-input-38-c1c62261b39c>, line 3)",
     "output_type": "error",
     "traceback": [
      "\u001b[0;36m  File \u001b[0;32m\"<ipython-input-38-c1c62261b39c>\"\u001b[0;36m, line \u001b[0;32m3\u001b[0m\n\u001b[0;31m    print(num) #no indentation\u001b[0m\n\u001b[0m        ^\u001b[0m\n\u001b[0;31mIndentationError\u001b[0m\u001b[0;31m:\u001b[0m expected an indented block\n"
     ]
    }
   ],
   "source": [
    "numbers=[1,2,3,4,5,6,7,8,9,10]\n",
    "for num in numbers:\n",
    "print(num) #no indentation"
   ]
  },
  {
   "cell_type": "markdown",
   "metadata": {},
   "source": [
    "You will often get errors when running cells and it's easy to get frustrated for not getting the code right. However, it's always useful to read the error message to try to understand what went wrong. In this case the error clearly says we got the indentation wrong (it's called IndentationError!) and even tells you, with the little black arrow where it found the error.   "
   ]
  },
  {
   "cell_type": "markdown",
   "metadata": {},
   "source": [
    "The other thing to notice is the colon ( `:` ) after the <code>for</code> statement. This is also a requirement to indicate the start of the loop. Without it we raise another error:"
   ]
  },
  {
   "cell_type": "code",
   "execution_count": 39,
   "metadata": {},
   "outputs": [
    {
     "ename": "SyntaxError",
     "evalue": "invalid syntax (<ipython-input-39-358abd139ef3>, line 2)",
     "output_type": "error",
     "traceback": [
      "\u001b[0;36m  File \u001b[0;32m\"<ipython-input-39-358abd139ef3>\"\u001b[0;36m, line \u001b[0;32m2\u001b[0m\n\u001b[0;31m    for num in numbers\u001b[0m\n\u001b[0m                      ^\u001b[0m\n\u001b[0;31mSyntaxError\u001b[0m\u001b[0;31m:\u001b[0m invalid syntax\n"
     ]
    }
   ],
   "source": [
    "numbers=[1,2,3,4,5,6,7,8,9,10]\n",
    "for num in numbers\n",
    "    print(num)"
   ]
  },
  {
   "cell_type": "markdown",
   "metadata": {},
   "source": [
    "This time we get a **syntax error** and again the arrow helpfully tells us where we have gone wrong."
   ]
  },
  {
   "cell_type": "markdown",
   "metadata": {},
   "source": [
    "Finally notice how the variable `num` takes the value of each element of the list as the iteration proceeds. Therefore name of this variable should be the best name for an item of the list. In this case we used `num` for number. Another good variable name in this case would be `integer`:"
   ]
  },
  {
   "cell_type": "code",
   "execution_count": 40,
   "metadata": {},
   "outputs": [
    {
     "name": "stdout",
     "output_type": "stream",
     "text": [
      "1\n",
      "2\n",
      "3\n",
      "4\n",
      "5\n",
      "6\n",
      "7\n",
      "8\n",
      "9\n",
      "10\n"
     ]
    }
   ],
   "source": [
    "numbers=[1,2,3,4,5,6,7,8,9,10]\n",
    "for integer in numbers:\n",
    "    print(integer)"
   ]
  },
  {
   "cell_type": "markdown",
   "metadata": {},
   "source": [
    "A non-descript variable name like `a` would also work, of course, but makes it harder to understand what the program is doing, especially as it get larger."
   ]
  },
  {
   "cell_type": "markdown",
   "metadata": {},
   "source": [
    "Instead of just printing each list item, we can also run an operation on it. For example, here we create a running sum: "
   ]
  },
  {
   "cell_type": "code",
   "execution_count": 41,
   "metadata": {},
   "outputs": [
    {
     "name": "stdout",
     "output_type": "stream",
     "text": [
      "1\n",
      "3\n",
      "6\n",
      "10\n",
      "15\n",
      "21\n",
      "28\n",
      "36\n",
      "45\n",
      "55\n"
     ]
    }
   ],
   "source": [
    "numbers=[1,2,3,4,5,6,7,8,9,10]\n",
    "total=0\n",
    "for num in numbers:\n",
    "    total=total + num\n",
    "    print(total)"
   ]
  },
  {
   "cell_type": "markdown",
   "metadata": {},
   "source": [
    "### <span style=\"color: red\"> Exercise:</span> Below is a list of ten names. Use a \"for loop\" to printout the list items."
   ]
  },
  {
   "cell_type": "code",
   "execution_count": 42,
   "metadata": {},
   "outputs": [
    {
     "name": "stdout",
     "output_type": "stream",
     "text": [
      "jack\n",
      "lisa\n",
      "bernard\n",
      "sebastian\n",
      "joe\n",
      "rose\n",
      "christopher\n",
      "henry\n",
      "zacharya\n",
      "ernest\n"
     ]
    }
   ],
   "source": [
    "names=['jack','lisa','bernard','sebastian','joe','rose','christopher','henry','zacharya', 'ernest']\n",
    "for firstName in names:\n",
    "    print(firstName)"
   ]
  },
  {
   "cell_type": "markdown",
   "metadata": {},
   "source": [
    "### <span style=\"color: blue\"> Solution:</span>"
   ]
  },
  {
   "cell_type": "code",
   "execution_count": 43,
   "metadata": {},
   "outputs": [
    {
     "name": "stdout",
     "output_type": "stream",
     "text": [
      "jack\n",
      "lisa\n",
      "bernard\n",
      "sebastian\n",
      "joe\n",
      "rose\n",
      "christopher\n",
      "henry\n",
      "zacharya\n",
      "ernest\n"
     ]
    }
   ],
   "source": [
    "names=['jack','lisa','bernard','sebastian','joe','rose','christopher','henry','zacharya', 'ernest']\n",
    "for firstName in names:\n",
    "    print(firstName)"
   ]
  },
  {
   "cell_type": "markdown",
   "metadata": {},
   "source": [
    "### <span style=\"color: red\"> Exercise:</span>  Use loops and conditional statements to print the elements of the list `names` with fewer than 5 characters."
   ]
  },
  {
   "cell_type": "markdown",
   "metadata": {},
   "source": [
    "### <span style=\"color: blue\"> Solution:</span>"
   ]
  },
  {
   "cell_type": "code",
   "execution_count": 44,
   "metadata": {},
   "outputs": [
    {
     "name": "stdout",
     "output_type": "stream",
     "text": [
      "jack\n",
      "lisa\n",
      "joe\n",
      "rose\n"
     ]
    }
   ],
   "source": [
    "names=['jack','lisa','bernard','sebastian','joe','rose','christopher','henry','zacharya', 'ernest']\n",
    "for firstName in names:\n",
    "    if len(firstName)<5:\n",
    "        print(firstName)"
   ]
  },
  {
   "cell_type": "markdown",
   "metadata": {},
   "source": [
    "### <span style=\"color: red\"> </span> Can you print them out in alphabetical order?"
   ]
  },
  {
   "cell_type": "markdown",
   "metadata": {},
   "source": [
    "### <span style=\"color: blue\"> Solution:</span>"
   ]
  },
  {
   "cell_type": "code",
   "execution_count": 45,
   "metadata": {},
   "outputs": [
    {
     "name": "stdout",
     "output_type": "stream",
     "text": [
      "bernard\n",
      "christopher\n",
      "ernest\n",
      "henry\n",
      "jack\n",
      "joe\n",
      "lisa\n",
      "rose\n",
      "sebastian\n",
      "zacharya\n"
     ]
    }
   ],
   "source": [
    "names=['jack','lisa','bernard','sebastian','joe','rose','christopher','henry','zacharya', 'ernest']\n",
    "names.sort()\n",
    "for firstName in names:\n",
    "    print(firstName)"
   ]
  },
  {
   "cell_type": "markdown",
   "metadata": {},
   "source": [
    "### <span style=\"color: red\">Combine the two: alphabetical order of names with fewer than 5 characters?</span>"
   ]
  },
  {
   "cell_type": "markdown",
   "metadata": {},
   "source": [
    "#### <span style=\"color: blue\"> Solution 1:</span>"
   ]
  },
  {
   "cell_type": "code",
   "execution_count": 46,
   "metadata": {},
   "outputs": [
    {
     "name": "stdout",
     "output_type": "stream",
     "text": [
      "jack\n",
      "joe\n",
      "lisa\n",
      "rose\n"
     ]
    }
   ],
   "source": [
    "names=['jack','lisa','bernard','sebastian','joe','rose','christopher','henry','zacharya', 'ernest']\n",
    "names.sort()\n",
    "for firstName in names:\n",
    "    if len(firstName)<5:\n",
    "        print(firstName)"
   ]
  },
  {
   "cell_type": "code",
   "execution_count": 47,
   "metadata": {},
   "outputs": [
    {
     "name": "stdout",
     "output_type": "stream",
     "text": [
      "jack\n",
      "lisa\n",
      "joe\n",
      "rose\n"
     ]
    },
    {
     "data": {
      "text/plain": [
       "['jack', 'joe', 'lisa', 'rose']"
      ]
     },
     "execution_count": 47,
     "metadata": {},
     "output_type": "execute_result"
    }
   ],
   "source": [
    "names=['jack','lisa','bernard','sebastian','joe','rose','christopher','henry','zacharya', 'ernest']\n",
    "shortNames=[]\n",
    "for firstName in names:\n",
    "    if len(firstName)<5:\n",
    "        print(firstName)\n",
    "        shortNames.append(firstName)\n",
    "        \n",
    "shortNames.sort()\n",
    "shortNames"
   ]
  },
  {
   "cell_type": "markdown",
   "metadata": {},
   "source": [
    "## Packages or modules"
   ]
  },
  {
   "cell_type": "markdown",
   "metadata": {},
   "source": [
    "One of the great features in python is the amazing scientific python community and the packages they have developed and shared. These are collections of programs that do useful things and that can be \"imported\" to run in other programs. To import a package we just use the command `import`:"
   ]
  },
  {
   "cell_type": "code",
   "execution_count": 48,
   "metadata": {},
   "outputs": [],
   "source": [
    "import antigravity"
   ]
  },
  {
   "cell_type": "markdown",
   "metadata": {},
   "source": [
    "The importing this module loads up an XKCD cartoon about how amzing it is be able to iimport packages in Python."
   ]
  },
  {
   "cell_type": "markdown",
   "metadata": {},
   "source": [
    "If there is something scientific you want to do, then there is probably a package that can do it. There are two packages we will use extensively:\n",
    "\n",
    "- [numpy](http://www.numpy.org/) which provides tools for handling and calculating with numerical arrays \n",
    "- [matplotlib](http://matplotlib.org/) which provides tools for plotting and visualizing data\n",
    "\n",
    "To use packages you need to import them into the working namespace:"
   ]
  },
  {
   "cell_type": "code",
   "execution_count": 49,
   "metadata": {},
   "outputs": [],
   "source": [
    "import numpy as np\n",
    "import matplotlib.pyplot as plt #matplotlib.pyplot is the plotting part of matplotlib"
   ]
  },
  {
   "cell_type": "markdown",
   "metadata": {},
   "source": [
    "You will see that we often import these at the start of our notebooks. The names after <code>as</code> are then used as \"prefixes\" for all commands in that package.\n",
    "\n",
    "These packages are very powerful. Here are some examples of what you can do with them."
   ]
  },
  {
   "cell_type": "markdown",
   "metadata": {},
   "source": [
    "## Plotting mathematical functions"
   ]
  },
  {
   "cell_type": "markdown",
   "metadata": {},
   "source": [
    "Visualizing mathematical functions is often very useful. With numpy and matplotlib this is straight forward. Lets plot $y=sin(x)$. \n",
    "\n",
    "First we need to create an array of x values:"
   ]
  },
  {
   "cell_type": "code",
   "execution_count": 50,
   "metadata": {},
   "outputs": [],
   "source": [
    "x=np.linspace(0,np.pi,181) "
   ]
  },
  {
   "cell_type": "markdown",
   "metadata": {},
   "source": [
    "Here we used the linspace function to create an array of evenly spaced values. The \"`np.`\" prefix indicates we are \"borrowing\" this function from the `numpy` library or package. In this expression we are using both the function `np.linspace` and `np.pi` which returns the numerical value of the constant $\\pi$.\n",
    "\n",
    "To see the documentation for any function just enter the function name followed by a ? in a code cell:"
   ]
  },
  {
   "cell_type": "code",
   "execution_count": 51,
   "metadata": {},
   "outputs": [
    {
     "data": {
      "text/plain": [
       "\u001b[0;31mSignature:\u001b[0m\n",
       "\u001b[0mnp\u001b[0m\u001b[0;34m.\u001b[0m\u001b[0mlinspace\u001b[0m\u001b[0;34m(\u001b[0m\u001b[0;34m\u001b[0m\n",
       "\u001b[0;34m\u001b[0m    \u001b[0mstart\u001b[0m\u001b[0;34m,\u001b[0m\u001b[0;34m\u001b[0m\n",
       "\u001b[0;34m\u001b[0m    \u001b[0mstop\u001b[0m\u001b[0;34m,\u001b[0m\u001b[0;34m\u001b[0m\n",
       "\u001b[0;34m\u001b[0m    \u001b[0mnum\u001b[0m\u001b[0;34m=\u001b[0m\u001b[0;36m50\u001b[0m\u001b[0;34m,\u001b[0m\u001b[0;34m\u001b[0m\n",
       "\u001b[0;34m\u001b[0m    \u001b[0mendpoint\u001b[0m\u001b[0;34m=\u001b[0m\u001b[0;32mTrue\u001b[0m\u001b[0;34m,\u001b[0m\u001b[0;34m\u001b[0m\n",
       "\u001b[0;34m\u001b[0m    \u001b[0mretstep\u001b[0m\u001b[0;34m=\u001b[0m\u001b[0;32mFalse\u001b[0m\u001b[0;34m,\u001b[0m\u001b[0;34m\u001b[0m\n",
       "\u001b[0;34m\u001b[0m    \u001b[0mdtype\u001b[0m\u001b[0;34m=\u001b[0m\u001b[0;32mNone\u001b[0m\u001b[0;34m,\u001b[0m\u001b[0;34m\u001b[0m\n",
       "\u001b[0;34m\u001b[0m    \u001b[0maxis\u001b[0m\u001b[0;34m=\u001b[0m\u001b[0;36m0\u001b[0m\u001b[0;34m,\u001b[0m\u001b[0;34m\u001b[0m\n",
       "\u001b[0;34m\u001b[0m\u001b[0;34m)\u001b[0m\u001b[0;34m\u001b[0m\u001b[0;34m\u001b[0m\u001b[0m\n",
       "\u001b[0;31mDocstring:\u001b[0m\n",
       "Return evenly spaced numbers over a specified interval.\n",
       "\n",
       "Returns `num` evenly spaced samples, calculated over the\n",
       "interval [`start`, `stop`].\n",
       "\n",
       "The endpoint of the interval can optionally be excluded.\n",
       "\n",
       ".. versionchanged:: 1.16.0\n",
       "    Non-scalar `start` and `stop` are now supported.\n",
       "\n",
       "Parameters\n",
       "----------\n",
       "start : array_like\n",
       "    The starting value of the sequence.\n",
       "stop : array_like\n",
       "    The end value of the sequence, unless `endpoint` is set to False.\n",
       "    In that case, the sequence consists of all but the last of ``num + 1``\n",
       "    evenly spaced samples, so that `stop` is excluded.  Note that the step\n",
       "    size changes when `endpoint` is False.\n",
       "num : int, optional\n",
       "    Number of samples to generate. Default is 50. Must be non-negative.\n",
       "endpoint : bool, optional\n",
       "    If True, `stop` is the last sample. Otherwise, it is not included.\n",
       "    Default is True.\n",
       "retstep : bool, optional\n",
       "    If True, return (`samples`, `step`), where `step` is the spacing\n",
       "    between samples.\n",
       "dtype : dtype, optional\n",
       "    The type of the output array.  If `dtype` is not given, infer the data\n",
       "    type from the other input arguments.\n",
       "\n",
       "    .. versionadded:: 1.9.0\n",
       "\n",
       "axis : int, optional\n",
       "    The axis in the result to store the samples.  Relevant only if start\n",
       "    or stop are array-like.  By default (0), the samples will be along a\n",
       "    new axis inserted at the beginning. Use -1 to get an axis at the end.\n",
       "\n",
       "    .. versionadded:: 1.16.0\n",
       "\n",
       "Returns\n",
       "-------\n",
       "samples : ndarray\n",
       "    There are `num` equally spaced samples in the closed interval\n",
       "    ``[start, stop]`` or the half-open interval ``[start, stop)``\n",
       "    (depending on whether `endpoint` is True or False).\n",
       "step : float, optional\n",
       "    Only returned if `retstep` is True\n",
       "\n",
       "    Size of spacing between samples.\n",
       "\n",
       "\n",
       "See Also\n",
       "--------\n",
       "arange : Similar to `linspace`, but uses a step size (instead of the\n",
       "         number of samples).\n",
       "geomspace : Similar to `linspace`, but with numbers spaced evenly on a log\n",
       "            scale (a geometric progression).\n",
       "logspace : Similar to `geomspace`, but with the end points specified as\n",
       "           logarithms.\n",
       "\n",
       "Examples\n",
       "--------\n",
       ">>> np.linspace(2.0, 3.0, num=5)\n",
       "array([2.  , 2.25, 2.5 , 2.75, 3.  ])\n",
       ">>> np.linspace(2.0, 3.0, num=5, endpoint=False)\n",
       "array([2. ,  2.2,  2.4,  2.6,  2.8])\n",
       ">>> np.linspace(2.0, 3.0, num=5, retstep=True)\n",
       "(array([2.  ,  2.25,  2.5 ,  2.75,  3.  ]), 0.25)\n",
       "\n",
       "Graphical illustration:\n",
       "\n",
       ">>> import matplotlib.pyplot as plt\n",
       ">>> N = 8\n",
       ">>> y = np.zeros(N)\n",
       ">>> x1 = np.linspace(0, 10, N, endpoint=True)\n",
       ">>> x2 = np.linspace(0, 10, N, endpoint=False)\n",
       ">>> plt.plot(x1, y, 'o')\n",
       "[<matplotlib.lines.Line2D object at 0x...>]\n",
       ">>> plt.plot(x2, y + 0.5, 'o')\n",
       "[<matplotlib.lines.Line2D object at 0x...>]\n",
       ">>> plt.ylim([-0.5, 1])\n",
       "(-0.5, 1)\n",
       ">>> plt.show()\n",
       "\u001b[0;31mFile:\u001b[0m      ~/opt/anaconda3/lib/python3.7/site-packages/numpy/core/function_base.py\n",
       "\u001b[0;31mType:\u001b[0m      function\n"
      ]
     },
     "metadata": {},
     "output_type": "display_data"
    }
   ],
   "source": [
    "np.linspace?"
   ]
  },
  {
   "cell_type": "markdown",
   "metadata": {},
   "source": [
    "This is a quick way of remembering how a function is called."
   ]
  },
  {
   "cell_type": "markdown",
   "metadata": {},
   "source": [
    "Now we can calculate $sin(x)$:"
   ]
  },
  {
   "cell_type": "code",
   "execution_count": 52,
   "metadata": {},
   "outputs": [],
   "source": [
    "y=np.sin(x)"
   ]
  },
  {
   "cell_type": "markdown",
   "metadata": {},
   "source": [
    "Notice that the `sin` function is also from `numpy`, hence the `np.` prefix."
   ]
  },
  {
   "cell_type": "code",
   "execution_count": 53,
   "metadata": {},
   "outputs": [
    {
     "name": "stdout",
     "output_type": "stream",
     "text": [
      "[0.00000000e+00 1.74524064e-02 3.48994967e-02 5.23359562e-02\n",
      " 6.97564737e-02 8.71557427e-02 1.04528463e-01 1.21869343e-01\n",
      " 1.39173101e-01 1.56434465e-01 1.73648178e-01 1.90808995e-01\n",
      " 2.07911691e-01 2.24951054e-01 2.41921896e-01 2.58819045e-01\n",
      " 2.75637356e-01 2.92371705e-01 3.09016994e-01 3.25568154e-01\n",
      " 3.42020143e-01 3.58367950e-01 3.74606593e-01 3.90731128e-01\n",
      " 4.06736643e-01 4.22618262e-01 4.38371147e-01 4.53990500e-01\n",
      " 4.69471563e-01 4.84809620e-01 5.00000000e-01 5.15038075e-01\n",
      " 5.29919264e-01 5.44639035e-01 5.59192903e-01 5.73576436e-01\n",
      " 5.87785252e-01 6.01815023e-01 6.15661475e-01 6.29320391e-01\n",
      " 6.42787610e-01 6.56059029e-01 6.69130606e-01 6.81998360e-01\n",
      " 6.94658370e-01 7.07106781e-01 7.19339800e-01 7.31353702e-01\n",
      " 7.43144825e-01 7.54709580e-01 7.66044443e-01 7.77145961e-01\n",
      " 7.88010754e-01 7.98635510e-01 8.09016994e-01 8.19152044e-01\n",
      " 8.29037573e-01 8.38670568e-01 8.48048096e-01 8.57167301e-01\n",
      " 8.66025404e-01 8.74619707e-01 8.82947593e-01 8.91006524e-01\n",
      " 8.98794046e-01 9.06307787e-01 9.13545458e-01 9.20504853e-01\n",
      " 9.27183855e-01 9.33580426e-01 9.39692621e-01 9.45518576e-01\n",
      " 9.51056516e-01 9.56304756e-01 9.61261696e-01 9.65925826e-01\n",
      " 9.70295726e-01 9.74370065e-01 9.78147601e-01 9.81627183e-01\n",
      " 9.84807753e-01 9.87688341e-01 9.90268069e-01 9.92546152e-01\n",
      " 9.94521895e-01 9.96194698e-01 9.97564050e-01 9.98629535e-01\n",
      " 9.99390827e-01 9.99847695e-01 1.00000000e+00 9.99847695e-01\n",
      " 9.99390827e-01 9.98629535e-01 9.97564050e-01 9.96194698e-01\n",
      " 9.94521895e-01 9.92546152e-01 9.90268069e-01 9.87688341e-01\n",
      " 9.84807753e-01 9.81627183e-01 9.78147601e-01 9.74370065e-01\n",
      " 9.70295726e-01 9.65925826e-01 9.61261696e-01 9.56304756e-01\n",
      " 9.51056516e-01 9.45518576e-01 9.39692621e-01 9.33580426e-01\n",
      " 9.27183855e-01 9.20504853e-01 9.13545458e-01 9.06307787e-01\n",
      " 8.98794046e-01 8.91006524e-01 8.82947593e-01 8.74619707e-01\n",
      " 8.66025404e-01 8.57167301e-01 8.48048096e-01 8.38670568e-01\n",
      " 8.29037573e-01 8.19152044e-01 8.09016994e-01 7.98635510e-01\n",
      " 7.88010754e-01 7.77145961e-01 7.66044443e-01 7.54709580e-01\n",
      " 7.43144825e-01 7.31353702e-01 7.19339800e-01 7.07106781e-01\n",
      " 6.94658370e-01 6.81998360e-01 6.69130606e-01 6.56059029e-01\n",
      " 6.42787610e-01 6.29320391e-01 6.15661475e-01 6.01815023e-01\n",
      " 5.87785252e-01 5.73576436e-01 5.59192903e-01 5.44639035e-01\n",
      " 5.29919264e-01 5.15038075e-01 5.00000000e-01 4.84809620e-01\n",
      " 4.69471563e-01 4.53990500e-01 4.38371147e-01 4.22618262e-01\n",
      " 4.06736643e-01 3.90731128e-01 3.74606593e-01 3.58367950e-01\n",
      " 3.42020143e-01 3.25568154e-01 3.09016994e-01 2.92371705e-01\n",
      " 2.75637356e-01 2.58819045e-01 2.41921896e-01 2.24951054e-01\n",
      " 2.07911691e-01 1.90808995e-01 1.73648178e-01 1.56434465e-01\n",
      " 1.39173101e-01 1.21869343e-01 1.04528463e-01 8.71557427e-02\n",
      " 6.97564737e-02 5.23359562e-02 3.48994967e-02 1.74524064e-02\n",
      " 1.22464680e-16]\n"
     ]
    }
   ],
   "source": [
    "print(y)"
   ]
  },
  {
   "cell_type": "markdown",
   "metadata": {},
   "source": [
    "Now we can plot it, First we need to define where the plots will appear. The following command makes the plots appear in the notebook. Usually this appears at the start of a notebook:"
   ]
  },
  {
   "cell_type": "code",
   "execution_count": 54,
   "metadata": {},
   "outputs": [],
   "source": [
    "%matplotlib inline"
   ]
  },
  {
   "cell_type": "markdown",
   "metadata": {},
   "source": [
    "Now we can plot the function using the <code>plt.plot</code> command and decorate the plot:"
   ]
  },
  {
   "cell_type": "code",
   "execution_count": 55,
   "metadata": {},
   "outputs": [
    {
     "data": {
      "image/png": "[encoded data removed]",
      "text/plain": [
       "<Figure size 432x288 with 1 Axes>"
      ]
     },
     "metadata": {
      "needs_background": "light"
     },
     "output_type": "display_data"
    }
   ],
   "source": [
    "plt.plot(x,y) #plots the blue line from the values of sin(x) calculated above\n",
    "plt.xlabel('x') #label for x axis\n",
    "plt.ylabel('$y=\\sin(x)$') #label for y axis\n",
    "plt.title('$\\sin(x)$'); #plot title\n",
    "plt.axis ([0.0, 3.14,0.0,1.0])\n",
    "plt.legend ('S')\n",
    "plt.savefig('myfig.png')"
   ]
  },
  {
   "cell_type": "markdown",
   "metadata": {},
   "source": [
    "### <span style=\"color: red\"> Exercise:</span> Plot $\\cos(x)$ and $\\cos(x)^2$ between $-2\\pi$ and $2\\pi$. Do this in a new cell below and not by modifying the cells above. You can copy and paste code between cells."
   ]
  },
  {
   "cell_type": "markdown",
   "metadata": {},
   "source": [
    "### <span style=\"color: blue\"> Solution:</span>"
   ]
  },
  {
   "cell_type": "code",
   "execution_count": 56,
   "metadata": {
    "collapsed": true,
    "jupyter": {
     "outputs_hidden": true
    }
   },
   "outputs": [
    {
     "data": {
      "text/plain": [
       "[<matplotlib.lines.Line2D at 0x11b490f10>]"
      ]
     },
     "execution_count": 56,
     "metadata": {},
     "output_type": "execute_result"
    },
    {
     "data": {
      "image/png": "[encoded data removed]",
      "text/plain": [
       "<Figure size 432x288 with 1 Axes>"
      ]
     },
     "metadata": {
      "needs_background": "light"
     },
     "output_type": "display_data"
    }
   ],
   "source": [
    "x=np.linspace(-2*np.pi,2*np.pi,721) \n",
    "y=np.cos(x)\n",
    "y2=(np.cos(x))**2\n",
    "plt.plot(x,y) #plots the blue line from the values of cos(x) calculated above\n",
    "plt.xlabel('x') #label for x axis\n",
    "plt.axis ([-2*np.pi,2*np.pi,-1.0,1.0])\n",
    "plt.plot(x,y2) #plots the orange line from the values of cos(x)^2 calculated above"
   ]
  },
  {
   "cell_type": "markdown",
   "metadata": {},
   "source": [
    "## Built-in data structures (I)\n",
    "### Arrays and lists"
   ]
  },
  {
   "cell_type": "markdown",
   "metadata": {},
   "source": [
    "We started off with lists and then used arrays to plot the trignometric functions. What's the difference between the two? \n",
    "\n",
    "They are both data structures but whereas lists are built-in data structures, that is they are part of the core Python language. Arrays on the other hand are data structures from the `numpy` package. Whereas lists are very versatile (you can have lists of arrays), arrays are designed for making calculations as fast as possible. Most lists can be turned into arrays using the `numpy` array function:"
   ]
  },
  {
   "cell_type": "code",
   "execution_count": 57,
   "metadata": {},
   "outputs": [],
   "source": [
    "num_list=[1,2,3,4,5,6]\n",
    "num_array=np.array(num_list)"
   ]
  },
  {
   "cell_type": "code",
   "execution_count": 58,
   "metadata": {},
   "outputs": [
    {
     "name": "stdout",
     "output_type": "stream",
     "text": [
      "<class 'list'>\n",
      "<class 'numpy.ndarray'>\n"
     ]
    }
   ],
   "source": [
    "print (type (num_list))\n",
    "print (type (num_array))\n"
   ]
  },
  {
   "cell_type": "code",
   "execution_count": 59,
   "metadata": {},
   "outputs": [
    {
     "name": "stdout",
     "output_type": "stream",
     "text": [
      "[1 2 3 4 5 6]\n"
     ]
    }
   ],
   "source": [
    "print(num_array)"
   ]
  },
  {
   "cell_type": "markdown",
   "metadata": {},
   "source": [
    "Specialised methods for array data structure, e.g:\n",
    "- array.append(x)\n",
    "- array.count (x)\n",
    "- array.index (x)\n",
    "- array.reverse()\n",
    "\n",
    "Try them !"
   ]
  },
  {
   "cell_type": "markdown",
   "metadata": {},
   "source": [
    "The most important difference between lists and array is the kind of operations that are possible with each of them. Summing or multiplying lists of numbers can be done very effectivelly using arrays:"
   ]
  },
  {
   "cell_type": "code",
   "execution_count": 60,
   "metadata": {},
   "outputs": [
    {
     "name": "stdout",
     "output_type": "stream",
     "text": [
      "[ 2  4  6  8 10 12]\n"
     ]
    }
   ],
   "source": [
    "print(num_array+num_array)"
   ]
  },
  {
   "cell_type": "markdown",
   "metadata": {},
   "source": [
    "The `+` operator does something very different with lists:"
   ]
  },
  {
   "cell_type": "code",
   "execution_count": 61,
   "metadata": {},
   "outputs": [
    {
     "name": "stdout",
     "output_type": "stream",
     "text": [
      "[1, 2, 3, 4, 5, 6, 1, 2, 3, 4, 5, 6]\n"
     ]
    }
   ],
   "source": [
    "print(num_list+num_list)"
   ]
  },
  {
   "cell_type": "markdown",
   "metadata": {},
   "source": [
    "Multiplication of lists brings up an error:"
   ]
  },
  {
   "cell_type": "code",
   "execution_count": 62,
   "metadata": {},
   "outputs": [
    {
     "ename": "TypeError",
     "evalue": "can't multiply sequence by non-int of type 'list'",
     "output_type": "error",
     "traceback": [
      "\u001b[0;31m---------------------------------------------------------------------------\u001b[0m",
      "\u001b[0;31mTypeError\u001b[0m                                 Traceback (most recent call last)",
      "\u001b[0;32m<ipython-input-62-a7230d2a6151>\u001b[0m in \u001b[0;36m<module>\u001b[0;34m\u001b[0m\n\u001b[0;32m----> 1\u001b[0;31m \u001b[0mnum_list\u001b[0m\u001b[0;34m*\u001b[0m\u001b[0mnum_list\u001b[0m\u001b[0;34m\u001b[0m\u001b[0;34m\u001b[0m\u001b[0m\n\u001b[0m",
      "\u001b[0;31mTypeError\u001b[0m: can't multiply sequence by non-int of type 'list'"
     ]
    }
   ],
   "source": [
    "num_list*num_list"
   ]
  },
  {
   "cell_type": "markdown",
   "metadata": {},
   "source": [
    "Whereas multiplicating arrays is fine as long as they are the same size. "
   ]
  },
  {
   "cell_type": "code",
   "execution_count": 63,
   "metadata": {},
   "outputs": [
    {
     "data": {
      "text/plain": [
       "array([ 1,  4,  9, 16, 25, 36])"
      ]
     },
     "execution_count": 63,
     "metadata": {},
     "output_type": "execute_result"
    }
   ],
   "source": [
    "num_array*num_array"
   ]
  },
  {
   "cell_type": "markdown",
   "metadata": {},
   "source": [
    "Note that the operation is \"broadcast\", that is the first element in one array is multiplied with the first element in the other array, the second with the second etc."
   ]
  },
  {
   "cell_type": "markdown",
   "metadata": {},
   "source": [
    "## Set\n",
    "A set is an unordered collection of items. Every element is unique (no duplicates) and must be immutable ( cannot be changed). However, the set itself is mutable. We can add or remove items from it.\n",
    "\n",
    "A set is created by placing all the items inside curly braces {}, separated by commas or by using the built-in function set(). It can have any number of items and they may be of different types (integer, float, tuple, string etc.). But a set cannot have a mutable element, like a list, set or dictionary, as its element.\n",
    "\n",
    "Sets are mutable. But since they are unordered, indexing have no meaning. We cannot access or change an element of set using indexing or slicing. Set does not support it.\n",
    "\n",
    "We can add single element using the add() method and multiple elements using the update() method. The update() method can take tuples, lists, strings or other sets as its argument. In all cases, duplicates are avoided.\n",
    "\n",
    "A particular item can be removed from set using methods, discard() and remove(). The only difference between the two is that, while using discard() if the item does not exist in the set, it remains unchanged. But remove() will raise an error in such condition.\n",
    "\n",
    "We can also remove all items from a set using clear().\n",
    "\n",
    "Play with the set _x_ below. Try adding and removing elements of various types."
   ]
  },
  {
   "cell_type": "code",
   "execution_count": 64,
   "metadata": {},
   "outputs": [
    {
     "name": "stdout",
     "output_type": "stream",
     "text": [
      "{'c', 'b', 'e', 'd'} <class 'set'>\n"
     ]
    }
   ],
   "source": [
    "x = {\"a\", \"b\", \"c\", \"d\",\"e\"}\n",
    "x.discard(\"a\")\n",
    "print (x, type (x))"
   ]
  },
  {
   "cell_type": "markdown",
   "metadata": {},
   "source": [
    "Sets are useful because they allow us to perform mathmatical operations on groups of data.\n",
    "\n",
    "The _union_ of set X and set Y will contain all the elements of X and Y, but will discard any duplicates, as these are not allowed in sets.\n",
    "\n",
    "The _union_ operation is performed using the | command, e.g. print(X | Y) will display the union of X and Y.\n",
    "\n",
    "The _intersection_ of set X and set Y will produce only the elements common to both sets.\n",
    "\n",
    "There are many different operations one can perform on sets. For the time being, try these two operations using the two sets, X and Y. Try to predict what the operation will produce as an output before running the code.\n"
   ]
  },
  {
   "cell_type": "code",
   "execution_count": 65,
   "metadata": {},
   "outputs": [
    {
     "name": "stdout",
     "output_type": "stream",
     "text": [
      "{'f', 'c', 'g', 'b', 'e', 'd'} <class 'set'>\n"
     ]
    }
   ],
   "source": [
    "y = {\"c\", \"d\", \"f\", \"g\"}\n",
    "z = x.union (y)\n",
    "print (z , type (y))\n"
   ]
  },
  {
   "cell_type": "markdown",
   "metadata": {},
   "source": [
    "## Multi dimensional arrays\n",
    "\n",
    "Numpy makes it easy to create multidimensional arrays. Here is a 2D array:"
   ]
  },
  {
   "cell_type": "code",
   "execution_count": 66,
   "metadata": {},
   "outputs": [],
   "source": [
    "\n",
    "arrayA=np.array([['a','b','c','d'],['e','f','g','h'],['i','j','k','l']])\n"
   ]
  },
  {
   "cell_type": "markdown",
   "metadata": {},
   "source": [
    "Which can be a matrix, for example:"
   ]
  },
  {
   "cell_type": "code",
   "execution_count": 67,
   "metadata": {},
   "outputs": [
    {
     "name": "stdout",
     "output_type": "stream",
     "text": [
      "[['a' 'b' 'c' 'd']\n",
      " ['e' 'f' 'g' 'h']\n",
      " ['i' 'j' 'k' 'l']]\n"
     ]
    }
   ],
   "source": [
    "print(np.matrix(arrayA))"
   ]
  },
  {
   "cell_type": "code",
   "execution_count": 68,
   "metadata": {},
   "outputs": [
    {
     "name": "stdout",
     "output_type": "stream",
     "text": [
      "l\n"
     ]
    }
   ],
   "source": [
    "print(arrayA[2,3]) #remember indexing in Python starts at 0! Row, Column"
   ]
  },
  {
   "cell_type": "markdown",
   "metadata": {},
   "source": [
    "Like lists and arrays, multidimensional arrays can be indexed and sliced:"
   ]
  },
  {
   "cell_type": "code",
   "execution_count": 69,
   "metadata": {},
   "outputs": [
    {
     "name": "stdout",
     "output_type": "stream",
     "text": [
      "[['f' 'g' 'h']\n",
      " ['j' 'k' 'l']]\n"
     ]
    }
   ],
   "source": [
    "print(arrayA[1:3,1:4]) #Selects from [1,1] including [1,1] and to [3,4] excluding [3,4]. \n",
    "\n",
    "#So the 4 runs the selection off the end of the page so we get the last column (blank is better)"
   ]
  },
  {
   "cell_type": "markdown",
   "metadata": {},
   "source": [
    "### <span style=\"color: red\"> Exercise:</span> Use slicing and indexing to print out individual rows, columns and items of `arrayA`."
   ]
  },
  {
   "cell_type": "markdown",
   "metadata": {},
   "source": [
    "### <span style=\"color: blue\"> Solution:</span>"
   ]
  },
  {
   "cell_type": "code",
   "execution_count": 73,
   "metadata": {},
   "outputs": [
    {
     "name": "stdout",
     "output_type": "stream",
     "text": [
      "['a' 'e' 'i']\n",
      "['a' 'b' 'c' 'd']\n"
     ]
    },
    {
     "name": "stdin",
     "output_type": "stream",
     "text": [
      "Please enter an integer: 1\n"
     ]
    },
    {
     "name": "stdout",
     "output_type": "stream",
     "text": [
      "['a' 'e' 'i']\n"
     ]
    }
   ],
   "source": [
    "#1st column\n",
    "print(arrayA[0:3,0])\n",
    "#1st row\n",
    "print(arrayA[0,0:4])\n",
    "\n",
    "#nth column\n",
    "n = int (input(\"Please enter an integer:\"))\n",
    "print(arrayA[0:,(n-1)])"
   ]
  },
  {
   "cell_type": "markdown",
   "metadata": {},
   "source": [
    "## Visualizing 2D arrays as matrices:"
   ]
  },
  {
   "cell_type": "markdown",
   "metadata": {},
   "source": [
    "We can visualize the 2D array as a matrix using matplotlib. Take arrayA:"
   ]
  },
  {
   "cell_type": "code",
   "execution_count": 74,
   "metadata": {},
   "outputs": [
    {
     "name": "stdout",
     "output_type": "stream",
     "text": [
      "[[ 1  2  4  8]\n",
      " [ 2  4  8 16]\n",
      " [ 4  8 16 32]]\n"
     ]
    }
   ],
   "source": [
    "arrayB=np.array([[1,2,4,8],[2,4,8,16],[4,8,16,32]])\n",
    "print(arrayB)"
   ]
  },
  {
   "cell_type": "markdown",
   "metadata": {},
   "source": [
    "This matrix can be visualized using the `matshow` function of the `matploltib` module we imported earlier.\n",
    "You will learn more details about matrices as images visulisations in image analysis lecture."
   ]
  },
  {
   "cell_type": "code",
   "execution_count": 75,
   "metadata": {},
   "outputs": [
    {
     "data": {
      "text/plain": [
       "<matplotlib.colorbar.Colorbar at 0x11b6dc0d0>"
      ]
     },
     "execution_count": 75,
     "metadata": {},
     "output_type": "execute_result"
    },
    {
     "data": {
      "image/png": "[encoded data removed]",
      "text/plain": [
       "<Figure size 384x288 with 2 Axes>"
      ]
     },
     "metadata": {
      "needs_background": "light"
     },
     "output_type": "display_data"
    }
   ],
   "source": [
    "\n",
    "plt.matshow(arrayB, interpolation='nearest') #we set interpolation to none because the default is linear. Try it out.\n",
    "plt.colorbar() #create colour scale bar"
   ]
  },
  {
   "cell_type": "markdown",
   "metadata": {},
   "source": [
    "### Array manipulation:"
   ]
  },
  {
   "cell_type": "markdown",
   "metadata": {},
   "source": [
    "As we saw earlier for 1D arrays, when arrays are multiplied together, each item gets multiplied by the corresponding item in the other array:"
   ]
  },
  {
   "cell_type": "code",
   "execution_count": 76,
   "metadata": {},
   "outputs": [
    {
     "name": "stdout",
     "output_type": "stream",
     "text": [
      "[[   1    4   16   64]\n",
      " [   4   16   64  256]\n",
      " [  16   64  256 1024]]\n"
     ]
    }
   ],
   "source": [
    "print(arrayB*arrayB)"
   ]
  },
  {
   "cell_type": "markdown",
   "metadata": {},
   "source": [
    "This is very useful because it saves us having to loop through every item and do an operation on each. So even though arrays can look like matrices, they do not multiply like matrices. "
   ]
  },
  {
   "cell_type": "markdown",
   "metadata": {},
   "source": [
    "### <span style=\"color: red\"> Exercise:</span> The following command produces an error. Why?"
   ]
  },
  {
   "cell_type": "code",
   "execution_count": 77,
   "metadata": {},
   "outputs": [
    {
     "ename": "ValueError",
     "evalue": "operands could not be broadcast together with shapes (1,2) (3,4) ",
     "output_type": "error",
     "traceback": [
      "\u001b[0;31m---------------------------------------------------------------------------\u001b[0m",
      "\u001b[0;31mValueError\u001b[0m                                Traceback (most recent call last)",
      "\u001b[0;32m<ipython-input-77-575ccfa89b82>\u001b[0m in \u001b[0;36m<module>\u001b[0;34m\u001b[0m\n\u001b[0;32m----> 1\u001b[0;31m \u001b[0marrayB\u001b[0m\u001b[0;34m[\u001b[0m\u001b[0;36m1\u001b[0m\u001b[0;34m:\u001b[0m\u001b[0;34m-\u001b[0m\u001b[0;36m1\u001b[0m\u001b[0;34m,\u001b[0m\u001b[0;36m1\u001b[0m\u001b[0;34m:\u001b[0m\u001b[0;34m-\u001b[0m\u001b[0;36m1\u001b[0m\u001b[0;34m]\u001b[0m\u001b[0;34m/\u001b[0m\u001b[0marrayB\u001b[0m\u001b[0;34m\u001b[0m\u001b[0;34m\u001b[0m\u001b[0m\n\u001b[0m",
      "\u001b[0;31mValueError\u001b[0m: operands could not be broadcast together with shapes (1,2) (3,4) "
     ]
    }
   ],
   "source": [
    "arrayB[1:-1,1:-1]/arrayB"
   ]
  },
  {
   "cell_type": "code",
   "execution_count": 78,
   "metadata": {},
   "outputs": [
    {
     "data": {
      "text/plain": [
       "array([[32., 16.,  8.,  4.],\n",
       "       [16.,  8.,  4.,  2.],\n",
       "       [ 8.,  4.,  2.,  1.]])"
      ]
     },
     "execution_count": 78,
     "metadata": {},
     "output_type": "execute_result"
    }
   ],
   "source": [
    "arrayB[-1:5,-1:5]/arrayB"
   ]
  },
  {
   "cell_type": "markdown",
   "metadata": {},
   "source": [
    "### <span style=\"color: blue\"> Solution:</span> \n",
    "They're the wrong \"shape\", by which we mean they're different sizes to each other."
   ]
  },
  {
   "cell_type": "markdown",
   "metadata": {},
   "source": [
    "Arrays and their efficient use are the bread and butter of scientific computing. Python, with `numpy`, has many useful funtions to work with arrays. For example, tiling arrays can be done using the `tile` function:"
   ]
  },
  {
   "cell_type": "code",
   "execution_count": 79,
   "metadata": {},
   "outputs": [],
   "source": [
    "tileA=np.tile(arrayB,(5,5))"
   ]
  },
  {
   "cell_type": "code",
   "execution_count": 80,
   "metadata": {},
   "outputs": [
    {
     "data": {
      "text/plain": [
       "(15, 20)"
      ]
     },
     "execution_count": 80,
     "metadata": {},
     "output_type": "execute_result"
    }
   ],
   "source": [
    "np.shape(tileA)"
   ]
  },
  {
   "cell_type": "markdown",
   "metadata": {},
   "source": [
    "You can use <code>matshow</code> to see the tiled arrays:"
   ]
  },
  {
   "cell_type": "code",
   "execution_count": 81,
   "metadata": {},
   "outputs": [
    {
     "data": {
      "text/plain": [
       "<matplotlib.image.AxesImage at 0x11b8879d0>"
      ]
     },
     "execution_count": 81,
     "metadata": {},
     "output_type": "execute_result"
    },
    {
     "data": {
      "image/png": "[encoded data removed]",
      "text/plain": [
       "<Figure size 384x288 with 1 Axes>"
      ]
     },
     "metadata": {
      "needs_background": "light"
     },
     "output_type": "display_data"
    }
   ],
   "source": [
    "plt.matshow(tileA, interpolation='none')"
   ]
  },
  {
   "cell_type": "markdown",
   "metadata": {},
   "source": [
    "Arrays can also be used in calculations:"
   ]
  },
  {
   "cell_type": "code",
   "execution_count": 82,
   "metadata": {},
   "outputs": [],
   "source": [
    "arrayB=np.tan(tileA*np.pi/180)**2"
   ]
  },
  {
   "cell_type": "code",
   "execution_count": 83,
   "metadata": {},
   "outputs": [
    {
     "data": {
      "text/plain": [
       "<matplotlib.image.AxesImage at 0x11b9ddd50>"
      ]
     },
     "execution_count": 83,
     "metadata": {},
     "output_type": "execute_result"
    },
    {
     "data": {
      "image/png": "[encoded data removed]",
      "text/plain": [
       "<Figure size 384x288 with 1 Axes>"
      ]
     },
     "metadata": {
      "needs_background": "light"
     },
     "output_type": "display_data"
    }
   ],
   "source": [
    "plt.matshow(arrayB, interpolation='nearest')"
   ]
  },
  {
   "cell_type": "markdown",
   "metadata": {},
   "source": [
    "If they are the same size they can be added:"
   ]
  },
  {
   "cell_type": "code",
   "execution_count": 84,
   "metadata": {},
   "outputs": [],
   "source": [
    "arrayD=arrayB+tileA+np.ones(np.shape(tileA)) #the ones function creates an array made up of ones"
   ]
  },
  {
   "cell_type": "code",
   "execution_count": 85,
   "metadata": {},
   "outputs": [
    {
     "data": {
      "text/plain": [
       "<matplotlib.colorbar.Colorbar at 0x11b997790>"
      ]
     },
     "execution_count": 85,
     "metadata": {},
     "output_type": "execute_result"
    },
    {
     "data": {
      "image/png": "[encoded data removed]",
      "text/plain": [
       "<Figure size 384x288 with 2 Axes>"
      ]
     },
     "metadata": {
      "needs_background": "light"
     },
     "output_type": "display_data"
    }
   ],
   "source": [
    "plt.matshow(arrayD,interpolation=\"none\")\n",
    "plt.colorbar()"
   ]
  },
  {
   "cell_type": "markdown",
   "metadata": {},
   "source": [
    "### <span style=\"color: red\"> Exercise:</span>  Use slicing and <code>matshow</code> to plot only the bottom right 3$\\times$4 tile of <code>arrayD</code>."
   ]
  },
  {
   "cell_type": "markdown",
   "metadata": {},
   "source": [
    "### <span style=\"color: blue\"> Solution:</span>"
   ]
  },
  {
   "cell_type": "code",
   "execution_count": 89,
   "metadata": {},
   "outputs": [
    {
     "data": {
      "text/plain": [
       "<matplotlib.colorbar.Colorbar at 0x11ba4c650>"
      ]
     },
     "execution_count": 89,
     "metadata": {},
     "output_type": "execute_result"
    },
    {
     "data": {
      "image/png": "[encoded data removed]",
      "text/plain": [
       "<Figure size 384x288 with 2 Axes>"
      ]
     },
     "metadata": {
      "needs_background": "light"
     },
     "output_type": "display_data"
    }
   ],
   "source": [
    "arrayE=arrayD[-3:,-4:]\n",
    "plt.matshow(arrayE,interpolation=\"none\")\n",
    "plt.colorbar()"
   ]
  },
  {
   "cell_type": "markdown",
   "metadata": {},
   "source": [
    "## Functions\n",
    "### Why functions?\n",
    "As we discussed in the introduction lecture, one of the most powerful and useful aspects of Python is the ability to create separate modules, or functions, than can then be run separately and shared.\n",
    "\n",
    "This gives us the following abilities, we can:\n",
    "- perform repetitive tasks\n",
    "- make code reusable by generating external modules \n",
    "- partition our program into well-tested blocks\n",
    "- have control of variable access"
   ]
  },
  {
   "cell_type": "markdown",
   "metadata": {},
   "source": [
    "### Development of functions\n",
    "Modifying existing code, and/or developing new functions, tends to follow this workflow:\n",
    "\n",
    "- implement your program in the main module \n",
    "- test your program \n",
    "- change the main part of the program into a function\n",
    "- store this function in module containing test"
   ]
  },
  {
   "cell_type": "markdown",
   "metadata": {},
   "source": [
    "### Structure for defining a function \n",
    "\n",
    "- def functionnam() starts a function definition.\n",
    "- Any input parameters or arguments should be placed with () parantheses. You can also define parameters inside  these parantheses. \n",
    "- return [expression] exits a function, optionally passing back an expression to the caller.    \n",
    "\n",
    "You can see how this is structured below:\n"
   ]
  },
  {
   "cell_type": "raw",
   "metadata": {},
   "source": [
    "def functionname(parameters):\n",
    "    \"function_docstring\"\n",
    "    function_suite\n",
    "    return [expression]"
   ]
  },
  {
   "cell_type": "markdown",
   "metadata": {},
   "source": [
    "### Example : Fibonnacci series up to n\n",
    "In the Fibonnacci series, each number of the series is the sum of the previous two numbers:\n",
    "0 1 1 2 3 5 8 13 21 ....\n",
    "\n",
    "Let's make ourselves a function that outputs the Fibonnacci series up to a number we provide."
   ]
  },
  {
   "cell_type": "markdown",
   "metadata": {},
   "source": [
    "#### Implemetation as a function 'fib'"
   ]
  },
  {
   "cell_type": "code",
   "execution_count": 90,
   "metadata": {},
   "outputs": [],
   "source": [
    "def fib(n):\n",
    "    \"Fibonacci Series up to n\"\n",
    "    a , b = 0 ,1\n",
    "    while a < n :\n",
    "        print (a)\n",
    "        a,b = b , a+b"
   ]
  },
  {
   "cell_type": "markdown",
   "metadata": {},
   "source": [
    "#### Access to docsring \n",
    "We can use the docsring to provide support, descriptions, and usage that can be recalled later. Here we have saved a simple description of the function."
   ]
  },
  {
   "cell_type": "code",
   "execution_count": 91,
   "metadata": {},
   "outputs": [
    {
     "name": "stdout",
     "output_type": "stream",
     "text": [
      "Fibonacci Series up to n\n"
     ]
    }
   ],
   "source": [
    "print (fib.__doc__)"
   ]
  },
  {
   "cell_type": "markdown",
   "metadata": {},
   "source": [
    "We can now use our _fib_ function with any input number _n_, and the function will produce the Fibonnacci series up to this point.\n",
    "\n",
    "Think, why does 'fib(13)' not produce 13 in the output, even though this is part of the series? Can you modify the above function such that it will be produced?\n",
    "\n",
    "<span style=\"color: red\">We've defined a less than.</span>"
   ]
  },
  {
   "cell_type": "code",
   "execution_count": 92,
   "metadata": {},
   "outputs": [
    {
     "name": "stdout",
     "output_type": "stream",
     "text": [
      "0\n",
      "1\n",
      "1\n",
      "2\n",
      "3\n",
      "5\n",
      "8\n"
     ]
    }
   ],
   "source": [
    "fib(13)"
   ]
  },
  {
   "cell_type": "markdown",
   "metadata": {},
   "source": [
    "## Local and Global variables\n",
    "### Example : Celcius to Farenheit (again)\n",
    "\n",
    "Global variables are variables that are defined outside of a function, but are used within a function. \n",
    "\n",
    "Local variables are defined only within a function, for example for temporary storage of data before further processing. Local variables cannot be accessed outside the function in which they are defined.\n",
    "\n",
    "If variables are given the same name, the local variable will take priority over the global variable.\n",
    "\n",
    "Let us define our temperature-conversion function again:\n",
    "\n"
   ]
  },
  {
   "cell_type": "code",
   "execution_count": 96,
   "metadata": {},
   "outputs": [],
   "source": [
    "def C2F (C):\n",
    "    F = (9.0/5)*C + 32  # local variable\n",
    "    print (\"C = %s F=%s r=%s\" %(C,F,r))\n",
    "    return F   \n"
   ]
  },
  {
   "cell_type": "markdown",
   "metadata": {},
   "source": [
    "Running our function will output the variables, in order for us to check their value, followed by the temperature in Fahrenheit. Try this now using a temperature of 25:\n",
    "\n"
   ]
  },
  {
   "cell_type": "code",
   "execution_count": 97,
   "metadata": {},
   "outputs": [
    {
     "ename": "NameError",
     "evalue": "name 'r' is not defined",
     "output_type": "error",
     "traceback": [
      "\u001b[0;31m---------------------------------------------------------------------------\u001b[0m",
      "\u001b[0;31mNameError\u001b[0m                                 Traceback (most recent call last)",
      "\u001b[0;32m<ipython-input-97-251499cda89b>\u001b[0m in \u001b[0;36m<module>\u001b[0;34m\u001b[0m\n\u001b[0;32m----> 1\u001b[0;31m \u001b[0mC2F\u001b[0m\u001b[0;34m(\u001b[0m\u001b[0;36m25\u001b[0m\u001b[0;34m)\u001b[0m\u001b[0;34m\u001b[0m\u001b[0;34m\u001b[0m\u001b[0m\n\u001b[0m",
      "\u001b[0;32m<ipython-input-96-a347de3a9e3e>\u001b[0m in \u001b[0;36mC2F\u001b[0;34m(C)\u001b[0m\n\u001b[1;32m      1\u001b[0m \u001b[0;32mdef\u001b[0m \u001b[0mC2F\u001b[0m \u001b[0;34m(\u001b[0m\u001b[0mC\u001b[0m\u001b[0;34m)\u001b[0m\u001b[0;34m:\u001b[0m\u001b[0;34m\u001b[0m\u001b[0;34m\u001b[0m\u001b[0m\n\u001b[1;32m      2\u001b[0m     \u001b[0mF\u001b[0m \u001b[0;34m=\u001b[0m \u001b[0;34m(\u001b[0m\u001b[0;36m9.0\u001b[0m\u001b[0;34m/\u001b[0m\u001b[0;36m5\u001b[0m\u001b[0;34m)\u001b[0m\u001b[0;34m*\u001b[0m\u001b[0mC\u001b[0m \u001b[0;34m+\u001b[0m \u001b[0;36m32\u001b[0m  \u001b[0;31m# local variable\u001b[0m\u001b[0;34m\u001b[0m\u001b[0;34m\u001b[0m\u001b[0m\n\u001b[0;32m----> 3\u001b[0;31m     \u001b[0mprint\u001b[0m \u001b[0;34m(\u001b[0m\u001b[0;34m\"C = %s F=%s r=%s\"\u001b[0m \u001b[0;34m%\u001b[0m\u001b[0;34m(\u001b[0m\u001b[0mC\u001b[0m\u001b[0;34m,\u001b[0m\u001b[0mF\u001b[0m\u001b[0;34m,\u001b[0m\u001b[0mr\u001b[0m\u001b[0;34m)\u001b[0m\u001b[0;34m)\u001b[0m\u001b[0;34m\u001b[0m\u001b[0;34m\u001b[0m\u001b[0m\n\u001b[0m\u001b[1;32m      4\u001b[0m     \u001b[0;32mreturn\u001b[0m \u001b[0mF\u001b[0m\u001b[0;34m\u001b[0m\u001b[0;34m\u001b[0m\u001b[0m\n",
      "\u001b[0;31mNameError\u001b[0m: name 'r' is not defined"
     ]
    }
   ],
   "source": [
    "C2F(25)"
   ]
  },
  {
   "cell_type": "markdown",
   "metadata": {},
   "source": [
    "Let's now define some global variables. Because we are not in our 'def' code, anything we define here will be global, rather than local to our temperature-conversion function:\n",
    "\n"
   ]
  },
  {
   "cell_type": "code",
   "execution_count": 98,
   "metadata": {},
   "outputs": [],
   "source": [
    "C = 60  # make a global variable C\n",
    "r = 21 # another global variable "
   ]
  },
  {
   "cell_type": "markdown",
   "metadata": {},
   "source": [
    "What do you expect the value of our variable _C_ to be if we output it now? 25 or 60?\n",
    "\n",
    "Check to see what the value of _C_ actually is:\n"
   ]
  },
  {
   "cell_type": "code",
   "execution_count": 99,
   "metadata": {},
   "outputs": [
    {
     "name": "stdout",
     "output_type": "stream",
     "text": [
      "60\n"
     ]
    }
   ],
   "source": [
    "print (C)"
   ]
  },
  {
   "cell_type": "markdown",
   "metadata": {},
   "source": [
    "As we are not in the _C2F_ function we defined, _C_ takes the global value.\n",
    "\n",
    "Let's try our conversion out again, now after we've defined these additional global variables:"
   ]
  },
  {
   "cell_type": "code",
   "execution_count": 100,
   "metadata": {},
   "outputs": [
    {
     "name": "stdout",
     "output_type": "stream",
     "text": [
      "C = 30 F=86.0 r=21\n"
     ]
    },
    {
     "data": {
      "text/plain": [
       "86.0"
      ]
     },
     "execution_count": 100,
     "metadata": {},
     "output_type": "execute_result"
    }
   ],
   "source": [
    "(C2F(30))"
   ]
  },
  {
   "cell_type": "markdown",
   "metadata": {},
   "source": [
    "You should see now that _C_ in our _C2F_ function we defined now takes the local value of the variable."
   ]
  },
  {
   "cell_type": "markdown",
   "metadata": {},
   "source": [
    "### Note, the use of global variables inside functions is very dangerous!\n",
    "\n",
    "As your code gets bigger and more complex, global variables get worse and worse to use. Source code is easiest to understand when what each function can do is limited. By defining global variables that multiple functions can modify, it is hard to keep track of what is happening. It is also possible, through mis-spelling or forgetting to define a local variable, that your global variable will be re-used incorrectly, leading to errors. At worst, global variables combined with unchecked, third-party code can lead to enormous security problems as you do not have control over what that code can access."
   ]
  },
  {
   "cell_type": "markdown",
   "metadata": {},
   "source": [
    "### Multiple input and output variables\n",
    "\n",
    "The functions you define are not limited to a single input or output variable. In the final example of this introduction, we will make a function that outputs the vertical position and velocity of a thrown ball.\n",
    "\n",
    "### Example: Vertical positon and velocity of ball thrown into air\n",
    "\n",
    "The vertical position _y_ at time _t_ of a ball is a function of its initial velocity _v0_ and acceleration due to gravity _g_, given by the following equations:"
   ]
  },
  {
   "cell_type": "markdown",
   "metadata": {},
   "source": [
    "$y(t) = v_{0}t - \\frac{1}{2} g t^2$\n",
    "\n",
    "\n",
    "$y'(t) = v_{0}t -  gt$"
   ]
  },
  {
   "cell_type": "markdown",
   "metadata": {},
   "source": [
    "Let's define a function that takes the time _t_ and initial velocity _v0_ as inputs, and then calculates where and how fast the ball is accordingly, given _g_ is a constant:"
   ]
  },
  {
   "cell_type": "code",
   "execution_count": 101,
   "metadata": {},
   "outputs": [],
   "source": [
    "def yfunc (t,v0):\n",
    "    g = 9.81\n",
    "    y = v0*t - 0.5*g*t**2 #position\n",
    "    dydt = v0 - g*t #velocity\n",
    "    return y, dydt\n",
    "    "
   ]
  },
  {
   "cell_type": "markdown",
   "metadata": {},
   "source": [
    "Then we can generate a list of timesteps that we can input into this function:"
   ]
  },
  {
   "cell_type": "code",
   "execution_count": 102,
   "metadata": {},
   "outputs": [],
   "source": [
    "t_values = [0.05*i for i in range(10)]"
   ]
  },
  {
   "cell_type": "markdown",
   "metadata": {},
   "source": [
    "Finally, we can loop over this list to produce values of the output variables _pos_ and _vel_ using our function, rounding the numbers to produce a nicely-formatted output."
   ]
  },
  {
   "cell_type": "code",
   "execution_count": 117,
   "metadata": {},
   "outputs": [
    {
     "name": "stdout",
     "output_type": "stream",
     "text": [
      "t=0          pos=0          vel=5         \n",
      "t=0.05       pos=0.237737   vel=4.5095    \n",
      "t=0.1        pos=0.45095    vel=4.019     \n",
      "t=0.15       pos=0.639638   vel=3.5285    \n",
      "t=0.2        pos=0.8038     vel=3.038     \n",
      "t=0.25       pos=0.943437   vel=2.5475    \n",
      "t=0.3        pos=1.05855    vel=2.057     \n",
      "t=0.35       pos=1.14914    vel=1.5665    \n",
      "t=0.4        pos=1.2152     vel=1.076     \n",
      "t=0.45       pos=1.25674    vel=0.5855    \n"
     ]
    },
    {
     "data": {
      "text/plain": [
       "Text(0, 0.5, 'position')"
      ]
     },
     "execution_count": 117,
     "metadata": {},
     "output_type": "execute_result"
    },
    {
     "data": {
      "image/png": "[encoded data removed]",
      "text/plain": [
       "<Figure size 432x288 with 1 Axes>"
      ]
     },
     "metadata": {
      "needs_background": "light"
     },
     "output_type": "display_data"
    }
   ],
   "source": [
    "time=[]\n",
    "position=[]\n",
    "velocity=[]\n",
    "for t in t_values:\n",
    "    pos, vel = yfunc (t, v0=5)\n",
    "    print (\"t=%-10g pos=%-10g vel=%-10g\" % (t,pos,vel))\n",
    "    time.append(t)\n",
    "    position.append(pos)\n",
    "    velocity.append(vel)\n",
    "    \n",
    "plt.plot(time,position,'ro')\n",
    "plt.xlabel('time')\n",
    "plt.ylabel('position')"
   ]
  },
  {
   "cell_type": "markdown",
   "metadata": {},
   "source": [
    "## Coding style guide\n",
    "### <span style=\"color: green\"> Code is read much more often than it is written!  </span> \n",
    "\n",
    "PEP8 style guide:https://www.python.org/dev/peps/pep-0008/\n",
    "\n",
    "- Use 4-space indentation (good compromise between nesting depth and readability) and no tabs (confusing).\n",
    "- Wrap lines so that they don't exceed 79 characters. \n",
    "- Use blank lines to separate functions and classes, and larger blocks of code inside functions.\n",
    "- When possible, put comments on a line of their own. \n",
    "- Use space around operators and after commas, but not directly inside bracketing constructs: a = f(1,2)+g(3,4).\n",
    "- Name your classes and functions consistently, e.g. CamelCase for classes and lowercase_with_underscores for functions and mehods. \n",
    "- Use plain ASCII encodings."
   ]
  }
 ],
 "metadata": {
  "anaconda-cloud": {},
  "kernelspec": {
   "display_name": "Python 3 (ipykernel)",
   "language": "python",
   "name": "python3"
  },
  "language_info": {
   "codemirror_mode": {
    "name": "ipython",
    "version": 3
   },
   "file_extension": ".py",
   "mimetype": "text/x-python",
   "name": "python",
   "nbconvert_exporter": "python",
   "pygments_lexer": "ipython3",
   "version": "3.10.9"
  },
  "widgets": {
   "application/vnd.jupyter.widget-state+json": {
    "state": {},
    "version_major": 2,
    "version_minor": 0
   }
  }
 },
 "nbformat": 4,
 "nbformat_minor": 4
}
