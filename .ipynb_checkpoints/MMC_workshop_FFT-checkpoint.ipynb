{
 "cells": [
  {
   "cell_type": "markdown",
   "id": "9c39a387-5313-42ac-895f-c69ce11b3c5c",
   "metadata": {},
   "source": [
    "# Example of analysis using an FFT"
   ]
  },
  {
   "cell_type": "markdown",
   "id": "d6c98d8c-e3fd-441e-b2d4-db2bed27dd6e",
   "metadata": {},
   "source": [
    "First, import the packages needed and set the plotting backend."
   ]
  },
  {
   "cell_type": "code",
   "execution_count": 1,
   "id": "fb6ef96a-7682-43bc-b1c0-3fd986f9ada0",
   "metadata": {},
   "outputs": [],
   "source": [
    "import numpy as np\n",
    "import matplotlib.pyplot as plt\n",
    "%matplotlib qt"
   ]
  },
  {
   "cell_type": "markdown",
   "id": "dbad69a8-1179-4415-806d-91d8048e6a89",
   "metadata": {},
   "source": [
    "Load the image and plot it."
   ]
  },
  {
   "cell_type": "code",
   "execution_count": 2,
   "id": "e1432b2c-6faa-48aa-8665-a66f9a02b260",
   "metadata": {},
   "outputs": [],
   "source": [
    "image = plt.imread(r'C:\\Users\\Tom Slater\\OneDrive - Cardiff University\\Talks\\MMC 2023 Workshop/HAADF _8MX _0008.tif')"
   ]
  },
  {
   "cell_type": "code",
   "execution_count": 40,
   "id": "158be830-8736-45ae-8034-f76659cb88c4",
   "metadata": {},
   "outputs": [
    {
     "data": {
      "text/plain": [
       "<matplotlib.image.AxesImage at 0x1bda25d4c10>"
      ]
     },
     "execution_count": 40,
     "metadata": {},
     "output_type": "execute_result"
    }
   ],
   "source": [
    "plt.imshow(image)"
   ]
  },
  {
   "cell_type": "markdown",
   "id": "dba7dad7-10be-4ae6-afe0-fb04acaf0408",
   "metadata": {},
   "source": [
    "Take a 2D Fourier transform and plot the log of the real component."
   ]
  },
  {
   "cell_type": "code",
   "execution_count": 4,
   "id": "83faced5-42f6-4fe0-89af-4f4c2a5dceba",
   "metadata": {},
   "outputs": [],
   "source": [
    "fft = np.fft.fft2(image)"
   ]
  },
  {
   "cell_type": "code",
   "execution_count": 6,
   "id": "34c993fc-dbbb-4bd7-b5c3-cb5e5045f3a7",
   "metadata": {},
   "outputs": [
    {
     "data": {
      "text/plain": [
       "<matplotlib.image.AxesImage at 0x1bd9e957a90>"
      ]
     },
     "execution_count": 6,
     "metadata": {},
     "output_type": "execute_result"
    }
   ],
   "source": [
    "plt.imshow(np.log(abs(fft)))"
   ]
  },
  {
   "cell_type": "markdown",
   "id": "4a60431d-9946-4f44-8355-88e79caa1669",
   "metadata": {},
   "source": [
    "The above plot isn't quite right, the low frequency information is located in the corners of the plot. Therefore, it's necessary to apply a shift to the FFT."
   ]
  },
  {
   "cell_type": "code",
   "execution_count": 8,
   "id": "338ef821-a9b0-45a8-8ae3-9ed1994820e8",
   "metadata": {},
   "outputs": [],
   "source": [
    "fft_shifted = np.fft.fftshift(np.fft.fft2(image))"
   ]
  },
  {
   "cell_type": "code",
   "execution_count": 18,
   "id": "7bf1bba4-2e70-4338-a888-95a9aa5c8a84",
   "metadata": {},
   "outputs": [
    {
     "data": {
      "text/plain": [
       "<matplotlib.image.AxesImage at 0x1bda2566850>"
      ]
     },
     "execution_count": 18,
     "metadata": {},
     "output_type": "execute_result"
    }
   ],
   "source": [
    "plt.imshow(np.log(abs(fft_shifted)))"
   ]
  },
  {
   "cell_type": "markdown",
   "id": "a54fe36d-37d7-4c51-a464-b0ac6d2db1c0",
   "metadata": {},
   "source": [
    "Note down the measurements from the fft in terms of pixels"
   ]
  },
  {
   "cell_type": "code",
   "execution_count": 66,
   "id": "a0c7cc0a-34dc-470b-923a-1ddd22b053f7",
   "metadata": {},
   "outputs": [],
   "source": [
    "dist = np.sqrt((561-512)**2+(605-512)**2)"
   ]
  },
  {
   "cell_type": "code",
   "execution_count": 67,
   "id": "a362ae9e-9751-4533-8255-ea9a76c24333",
   "metadata": {},
   "outputs": [
    {
     "data": {
      "text/plain": [
       "105.11898020814318"
      ]
     },
     "execution_count": 67,
     "metadata": {},
     "output_type": "execute_result"
    }
   ],
   "source": [
    "dist"
   ]
  },
  {
   "cell_type": "markdown",
   "id": "f4974b35-804f-44b2-a831-65d12858275d",
   "metadata": {},
   "source": [
    "Input the pixel size from our calibration data."
   ]
  },
  {
   "cell_type": "code",
   "execution_count": 68,
   "id": "d4a79c58-0815-45ca-aa2c-cebf886db271",
   "metadata": {},
   "outputs": [],
   "source": [
    "pix_size = 0.24"
   ]
  },
  {
   "cell_type": "markdown",
   "id": "f996d656-85b4-405d-b04b-13ec8db4e10c",
   "metadata": {},
   "source": [
    "Now, calculate the spacing using that calibrated value and the measured distance."
   ]
  },
  {
   "cell_type": "code",
   "execution_count": 69,
   "id": "e35d71a2-b727-4e25-b6cb-b397100c287f",
   "metadata": {},
   "outputs": [],
   "source": [
    "pix_spacing = 1 / (dist/1024)"
   ]
  },
  {
   "cell_type": "code",
   "execution_count": 70,
   "id": "e91a63c8-20ed-4046-96f7-44e355705c57",
   "metadata": {},
   "outputs": [],
   "source": [
    "spacing = pix_spacing * pix_size"
   ]
  },
  {
   "cell_type": "code",
   "execution_count": 71,
   "id": "c6fe4523-fe4c-44bb-9bd9-15bacaed3d41",
   "metadata": {},
   "outputs": [
    {
     "name": "stdout",
     "output_type": "stream",
     "text": [
      "2.3476635666684533\n"
     ]
    }
   ],
   "source": [
    "print(spacing)"
   ]
  },
  {
   "cell_type": "markdown",
   "id": "58450829-2910-4fad-be02-1864ff7bdb76",
   "metadata": {},
   "source": [
    "The next section repeats the above analysis, but on a cropped region for an individual nanoparticle."
   ]
  },
  {
   "cell_type": "code",
   "execution_count": 49,
   "id": "125e5249-afa3-4f7a-ae0f-0960e24e21c8",
   "metadata": {},
   "outputs": [],
   "source": [
    "particle_im = image[410:590,800:980]"
   ]
  },
  {
   "cell_type": "code",
   "execution_count": 74,
   "id": "05647328-a578-4bce-9436-ada1d76b34d4",
   "metadata": {},
   "outputs": [
    {
     "data": {
      "text/plain": [
       "<matplotlib.image.AxesImage at 0x1bdb12e7400>"
      ]
     },
     "execution_count": 74,
     "metadata": {},
     "output_type": "execute_result"
    }
   ],
   "source": [
    "plt.imshow(particle_im)"
   ]
  },
  {
   "cell_type": "code",
   "execution_count": 51,
   "id": "304cecb7-e903-4007-b1e8-f1850522c044",
   "metadata": {},
   "outputs": [],
   "source": [
    "particle_fft = np.fft.fftshift(np.fft.fft2(particle_im))"
   ]
  },
  {
   "cell_type": "code",
   "execution_count": 72,
   "id": "c3b90ab8-79ae-442d-99bd-d6573431da50",
   "metadata": {},
   "outputs": [
    {
     "data": {
      "text/plain": [
       "<matplotlib.image.AxesImage at 0x1bdb03ac700>"
      ]
     },
     "execution_count": 72,
     "metadata": {},
     "output_type": "execute_result"
    }
   ],
   "source": [
    "plt.imshow(np.log(abs(particle_fft)))"
   ]
  },
  {
   "cell_type": "code",
   "execution_count": 55,
   "id": "8180c663-8b41-4f25-9855-4e692312d316",
   "metadata": {},
   "outputs": [],
   "source": [
    "p_dist = np.sqrt((98-90)**2+(106-90)**2)"
   ]
  },
  {
   "cell_type": "code",
   "execution_count": 57,
   "id": "81461e04-e0b2-43af-a8fd-1dcded6051ac",
   "metadata": {},
   "outputs": [],
   "source": [
    "spacing = (1/(p_dist/180)) * pix_size"
   ]
  },
  {
   "cell_type": "code",
   "execution_count": 58,
   "id": "1ba1c909-302a-4455-8a8b-0e4b0ab86487",
   "metadata": {},
   "outputs": [
    {
     "name": "stdout",
     "output_type": "stream",
     "text": [
      "2.425015721598522\n"
     ]
    }
   ],
   "source": [
    "print(spacing)"
   ]
  },
  {
   "cell_type": "code",
   "execution_count": 75,
   "id": "b6741f18-6c27-4103-a5fe-75e3af3326ed",
   "metadata": {},
   "outputs": [],
   "source": [
    "p_dist2 = np.sqrt((65-90)**2+(102-90)**2)"
   ]
  },
  {
   "cell_type": "code",
   "execution_count": 76,
   "id": "90c675ba-4f0e-4021-9a46-d4362abb647b",
   "metadata": {},
   "outputs": [],
   "source": [
    "spacing2 = (1/(p_dist2/180)) * pix_size"
   ]
  },
  {
   "cell_type": "code",
   "execution_count": 77,
   "id": "2fdd87b3-b6b9-4f72-8bd6-04ac2158bc34",
   "metadata": {},
   "outputs": [
    {
     "name": "stdout",
     "output_type": "stream",
     "text": [
      "1.5643228093189483\n"
     ]
    }
   ],
   "source": [
    "print(spacing2)"
   ]
  },
  {
   "cell_type": "code",
   "execution_count": null,
   "id": "1894ac2e-5b69-450b-87bd-6b20f87b9399",
   "metadata": {},
   "outputs": [],
   "source": []
  }
 ],
 "metadata": {
  "kernelspec": {
   "display_name": "Python 3 (ipykernel)",
   "language": "python",
   "name": "python3"
  },
  "language_info": {
   "codemirror_mode": {
    "name": "ipython",
    "version": 3
   },
   "file_extension": ".py",
   "mimetype": "text/x-python",
   "name": "python",
   "nbconvert_exporter": "python",
   "pygments_lexer": "ipython3",
   "version": "3.9.13"
  }
 },
 "nbformat": 4,
 "nbformat_minor": 5
}
